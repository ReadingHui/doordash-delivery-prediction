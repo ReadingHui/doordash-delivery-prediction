{
 "cells": [
  {
   "cell_type": "code",
   "execution_count": 9,
   "metadata": {},
   "outputs": [],
   "source": [
    "import pandas as pd\n",
    "import numpy as np\n",
    "import lightgbm as lgb\n",
    "import config\n",
    "import utils"
   ]
  },
  {
   "cell_type": "code",
   "execution_count": 2,
   "metadata": {},
   "outputs": [],
   "source": [
    "def load_data(path: str) -> pd.DataFrame:\n",
    "    return pd.read_csv(path, index_col=0)"
   ]
  },
  {
   "cell_type": "code",
   "execution_count": 3,
   "metadata": {},
   "outputs": [],
   "source": [
    "def preprocess(X: pd.DataFrame) -> pd.DataFrame:\n",
    "    X = X.copy()\n",
    "    X = utils.preprocess.datetimes(X)\n",
    "    X = utils.preprocess.remove_features(X)\n",
    "    return X"
   ]
  },
  {
   "cell_type": "code",
   "execution_count": 4,
   "metadata": {},
   "outputs": [],
   "source": [
    "def imputes(X: pd.DataFrame) -> pd.DataFrame:\n",
    "    mid = utils.imputers.MarketIDImputer()\n",
    "    pci = utils.imputers.PrimaryCategoryImputer()\n",
    "    X = mid.fit_transform(X)\n",
    "    X = pci.fit_transform(X)\n",
    "    return X"
   ]
  },
  {
   "cell_type": "code",
   "execution_count": 11,
   "metadata": {},
   "outputs": [
    {
     "name": "stdout",
     "output_type": "stream",
     "text": [
      "First five predictions: [1855.32704767 2498.83663002 3280.11006609 3212.70420722 2731.62055292]\n"
     ]
    }
   ],
   "source": [
    "if __name__ == '__main__':\n",
    "    data = load_data(config.TEST_FILE)\n",
    "    data = preprocess(data)\n",
    "    data = imputes(data)\n",
    "    model = lgb.Booster(model_file=config.MODEL_FILE)\n",
    "    encoder = utils.encoders.StorePrimaryEncoder()\n",
    "    data = encoder.fit_transform(data)\n",
    "    y = model.predict(data)\n",
    "    print(f'First five predictions: {y[:5]}')\n",
    "    output_path = input('Enter your desire output path:')\n",
    "    np.savetxt(output_path + '.csv', y, delimiter=',')\n",
    "    \n"
   ]
  },
  {
   "cell_type": "code",
   "execution_count": null,
   "metadata": {},
   "outputs": [],
   "source": []
  }
 ],
 "metadata": {
  "kernelspec": {
   "display_name": "base",
   "language": "python",
   "name": "python3"
  },
  "language_info": {
   "codemirror_mode": {
    "name": "ipython",
    "version": 3
   },
   "file_extension": ".py",
   "mimetype": "text/x-python",
   "name": "python",
   "nbconvert_exporter": "python",
   "pygments_lexer": "ipython3",
   "version": "3.11.7"
  }
 },
 "nbformat": 4,
 "nbformat_minor": 2
}
